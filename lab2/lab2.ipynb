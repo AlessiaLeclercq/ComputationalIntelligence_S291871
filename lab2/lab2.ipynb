{
 "cells": [
  {
   "cell_type": "code",
   "execution_count": 1,
   "id": "ab93f617",
   "metadata": {
    "ExecuteTime": {
     "end_time": "2022-11-05T15:50:21.436683Z",
     "start_time": "2022-11-05T15:50:20.490056Z"
    }
   },
   "outputs": [],
   "source": [
    "import numpy as np\n",
    "import random\n",
    "import matplotlib.pyplot as plt\n",
    "from copy import copy\n",
    "from time import time\n",
    "from collections import namedtuple\n",
    "\n",
    "PROBLEM_SIZE = 1000\n",
    "POPULATION_SIZE = 50\n",
    "OFFSPRING_SIZE = 20\n",
    "SEED = 42\n",
    "N_MAX_ITERATIONS = 3000\n",
    "\n",
    "Individual = namedtuple(\"Individual\", [\"genome\", \"fitness\"])\n",
    "\n",
    "np.random.seed(SEED)\n",
    "#each individual is a tuple in the form (genome, (number of coverd elements from 0 to N-1, -sum of elements in the lists) "
   ]
  },
  {
   "cell_type": "code",
   "execution_count": 2,
   "id": "090b76dc",
   "metadata": {
    "ExecuteTime": {
     "end_time": "2022-11-05T15:50:21.451402Z",
     "start_time": "2022-11-05T15:50:21.440449Z"
    }
   },
   "outputs": [],
   "source": [
    "def problem(N, seed=None):\n",
    "    \"\"\"Creates an instance of the problem without duplicate elements\"\"\"\n",
    "    random.seed(seed)\n",
    "    return list(sorted({\n",
    "        tuple(set(random.randint(0, N - 1) for n in range(random.randint(N // 5, N // 2))))\n",
    "        for n in range(random.randint(N, N * 5))\n",
    "    }))"
   ]
  },
  {
   "cell_type": "code",
   "execution_count": 3,
   "id": "1dfe3f74",
   "metadata": {
    "ExecuteTime": {
     "end_time": "2022-11-05T15:50:22.647224Z",
     "start_time": "2022-11-05T15:50:21.454411Z"
    }
   },
   "outputs": [],
   "source": [
    "ALL_LISTS = problem(PROBLEM_SIZE, SEED)\n",
    "LIST_LEN = len(ALL_LISTS)"
   ]
  },
  {
   "cell_type": "code",
   "execution_count": 4,
   "id": "2f24f29a",
   "metadata": {
    "ExecuteTime": {
     "end_time": "2022-11-05T15:50:22.678043Z",
     "start_time": "2022-11-05T15:50:22.650414Z"
    }
   },
   "outputs": [],
   "source": [
    "def fitness_function(genome: tuple):\n",
    "    '''Returns a tuple (number_of_covered_elements, -weigth)'''\n",
    "    num_covered_elements = set()\n",
    "    weigth = 0\n",
    "    for (i, list_) in enumerate(ALL_LISTS):\n",
    "        if genome[i]:\n",
    "            num_covered_elements.update(list_)\n",
    "            weigth += len(list_)\n",
    "    return len(num_covered_elements), -weigth\n",
    "\n",
    "def select_parent(population, tournament_size = 2):\n",
    "    '''tournaments are performed and the individual with the highest fitness is chosen'''\n",
    "    return max(random.choices(population, k = tournament_size), key = lambda individual: individual.fitness) \n",
    "\n",
    "def single_mutation(genome: tuple):\n",
    "    '''Fist mutation function: flips a single element'''\n",
    "    index = random.randint(0, LIST_LEN-1)\n",
    "    return genome[:index] + (not genome[index],) + genome[index+1:]\n",
    "\n",
    "def multiple_mutations(genome: tuple):\n",
    "    '''Second mutation function: flips a randomic number of elements'''\n",
    "    n_mutations = np.random.poisson(lam= 2)\n",
    "    for _ in range(n_mutations):\n",
    "        genome = single_mutation(genome)\n",
    "    return genome\n",
    "\n",
    "def negations(genome: tuple):\n",
    "    '''Randomly selects some True values and sets them to False in order to decrease the weigth'''\n",
    "    indices = random.choices([index for index, value in enumerate(genome) if value])\n",
    "    return tuple([gene if index not in indices else False for index, gene in enumerate(genome)])\n",
    "\n",
    "def crossover(genome1: tuple, genome2: tuple):\n",
    "    '''First crossover function: splits the parents in two and then combine first slice of one parent with the second slice of the other parent.\n",
    "    randomly chooses also which parent to put first'''\n",
    "    cut = random.randint(0, LIST_LEN-1)\n",
    "    first_genome = random.randint(0,2) #chooses which parent to put first \n",
    "    \n",
    "    if first_genome: #first_parent = 1\n",
    "        return genome1[:cut] + genome2[cut:]\n",
    "    else: #first_parent = 0\n",
    "        return genome2[:cut] + genome1[cut:]   \n",
    "    \n",
    "def crossover_version2(genome1: tuple, genome2: tuple):\n",
    "    '''Created a mask of size PROBLEM_SIZE and if the i-th element is True then we choose the i-th element of parent1 otherwise of parent2'''\n",
    "    '''Aims at mixing the parents elements'''\n",
    "    mask = [random.choice([True, False]) for _ in range(LIST_LEN)]\n",
    "    genome = [genome1[index] if m else genome2[index] for index, m in enumerate(mask)]\n",
    "    return tuple(genome)"
   ]
  },
  {
   "cell_type": "code",
   "execution_count": 5,
   "id": "3915be5d",
   "metadata": {
    "ExecuteTime": {
     "end_time": "2022-11-05T15:50:22.693494Z",
     "start_time": "2022-11-05T15:50:22.682576Z"
    }
   },
   "outputs": [],
   "source": [
    "def generate_population():\n",
    "    '''Generation of the individuals'''\n",
    "    population = list()\n",
    "    random.seed(SEED)\n",
    "    for genome in [tuple([random.choice([True, False]) for _ in range(LIST_LEN)]) for __ in range(POPULATION_SIZE)]:\n",
    "        population.append(Individual(genome, fitness_function(genome)))\n",
    "\n",
    "    #sorting the population according first to the number of covered elements, then according to the weight \n",
    "    population = sorted(population, key = lambda individual: individual.fitness, reverse = True)\n",
    "    fittest_individual = copy(population[0]) \n",
    "    return population, fittest_individual\n"
   ]
  },
  {
   "cell_type": "code",
   "execution_count": 6,
   "id": "7c4b43e2",
   "metadata": {
    "ExecuteTime": {
     "end_time": "2022-11-05T15:50:22.724631Z",
     "start_time": "2022-11-05T15:50:22.697153Z"
    }
   },
   "outputs": [],
   "source": [
    "def set_covering(mutation_rate = .5, negation_rate = .5, tournament_size = 15):\n",
    "    population, fittest_individual = generate_population()\n",
    "    print(f\"Initial fittest individual has fitness = {fittest_individual.fitness}\")\n",
    "\n",
    "    start = time()\n",
    "    for number_iteration in range(N_MAX_ITERATIONS):\n",
    "        offspring = list()\n",
    "        for i in range(OFFSPRING_SIZE):\n",
    "            \n",
    "            parent1 = select_parent(population, tournament_size = tournament_size)\n",
    "            parent2 = select_parent(population, tournament_size = tournament_size)\n",
    "            new_individual = crossover(parent1.genome, parent2.genome) \n",
    "            \n",
    "            if np.random.uniform() <= mutation_rate: #Mutation perfomed 50% of the times\n",
    "                if number_iteration < N_MAX_ITERATIONS/negation_rate: #First mutations are rweigth loss aimed\n",
    "                    new_individual = negations(random.choice([parent1.genome, parent2.genome, new_individual])) \n",
    "                else: #single flip mutation \n",
    "                    new_individual = single_mutation(random.choice([parent1.genome, parent2.genome, new_individual]))\n",
    "                \n",
    "            new_individual = Individual(new_individual, fitness_function(new_individual))\n",
    "\n",
    "            if fittest_individual.fitness < new_individual.fitness: #keeps track of the best found solution till now\n",
    "                fittest_individual = copy(new_individual)\n",
    "\n",
    "            offspring.append(new_individual)\n",
    "\n",
    "        population += offspring\n",
    "        population = sorted(population, key=lambda individual: individual.fitness, reverse=True)[:OFFSPRING_SIZE]\n",
    "    \n",
    "    end = time()\n",
    "    print(f\"Fittest individual in the population has fitness = {fittest_individual.fitness}, Time required = {end-start:.2f} ms\"\")\n",
    "    return population, fittest_individual"
   ]
  }
 ],
 "metadata": {
  "kernelspec": {
   "display_name": "Python 3 (ipykernel)",
   "language": "python",
   "name": "python3"
  },
  "language_info": {
   "codemirror_mode": {
    "name": "ipython",
    "version": 3
   },
   "file_extension": ".py",
   "mimetype": "text/x-python",
   "name": "python",
   "nbconvert_exporter": "python",
   "pygments_lexer": "ipython3",
   "version": "3.9.7"
  },
  "toc": {
   "base_numbering": 1,
   "nav_menu": {},
   "number_sections": true,
   "sideBar": true,
   "skip_h1_title": false,
   "title_cell": "Table of Contents",
   "title_sidebar": "Contents",
   "toc_cell": false,
   "toc_position": {},
   "toc_section_display": true,
   "toc_window_display": false
  }
 },
 "nbformat": 4,
 "nbformat_minor": 5
}
